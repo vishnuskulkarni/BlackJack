{
 "cells": [
  {
   "cell_type": "code",
   "execution_count": 43,
   "metadata": {},
   "outputs": [],
   "source": [
    "import random\n",
    "\n",
    "suits = ('Hearts','Spades','Clubs','Diamonds')\n",
    "ranks = ('Two', 'Three', 'Four', 'Five', 'Six', 'Seven', 'Eight', 'Nine', 'Ten', 'Jack', 'Queen', 'King', 'Ace')\n",
    "values = {'Two':2, 'Three':3, 'Four':4, 'Five':5, 'Six':6, 'Seven':7, 'Eight':8, 'Nine':9, 'Ten':10, 'Jack':10,\n",
    "         'Queen':10, 'King':10, 'Ace':11}\n",
    "\n",
    "playing = True"
   ]
  },
  {
   "cell_type": "code",
   "execution_count": 44,
   "metadata": {},
   "outputs": [],
   "source": [
    "class Card:\n",
    "\n",
    "    def __init__(self,suit,rank):\n",
    "        self.suit = suit\n",
    "        self.rank = rank\n",
    "        \n",
    "    def __str__(self):\n",
    "        return self.rank + ' of ' + self.suit"
   ]
  },
  {
   "cell_type": "code",
   "execution_count": 45,
   "metadata": {},
   "outputs": [],
   "source": [
    "class Deck:\n",
    "    \n",
    "    def __init__(self):\n",
    "        self.deck = []  \n",
    "        for suit in suits:\n",
    "            for rank in ranks:\n",
    "                self.deck.append(Card(suit,rank)) \n",
    "    \n",
    "    def __str__(self):\n",
    "        deck_comp = ''  \n",
    "        for card in self.deck:\n",
    "            deck_comp += '\\n '+card.__str__() \n",
    "        return 'The deck has:' + deck_comp\n",
    "\n",
    "    def shuffle(self):\n",
    "        random.shuffle(self.deck)\n",
    "        \n",
    "    def deal(self):\n",
    "        single_card = self.deck.pop()\n",
    "        return single_card\n",
    "        "
   ]
  },
  {
   "cell_type": "code",
   "execution_count": 46,
   "metadata": {},
   "outputs": [
    {
     "name": "stdout",
     "output_type": "stream",
     "text": [
      "The deck has:\n",
      " Two of Hearts\n",
      " Three of Hearts\n",
      " Four of Hearts\n",
      " Five of Hearts\n",
      " Six of Hearts\n",
      " Seven of Hearts\n",
      " Eight of Hearts\n",
      " Nine of Hearts\n",
      " Ten of Hearts\n",
      " Jack of Hearts\n",
      " Queen of Hearts\n",
      " King of Hearts\n",
      " Ace of Hearts\n",
      " Two of Spades\n",
      " Three of Spades\n",
      " Four of Spades\n",
      " Five of Spades\n",
      " Six of Spades\n",
      " Seven of Spades\n",
      " Eight of Spades\n",
      " Nine of Spades\n",
      " Ten of Spades\n",
      " Jack of Spades\n",
      " Queen of Spades\n",
      " King of Spades\n",
      " Ace of Spades\n",
      " Two of Clubs\n",
      " Three of Clubs\n",
      " Four of Clubs\n",
      " Five of Clubs\n",
      " Six of Clubs\n",
      " Seven of Clubs\n",
      " Eight of Clubs\n",
      " Nine of Clubs\n",
      " Ten of Clubs\n",
      " Jack of Clubs\n",
      " Queen of Clubs\n",
      " King of Clubs\n",
      " Ace of Clubs\n",
      " Two of Diamonds\n",
      " Three of Diamonds\n",
      " Four of Diamonds\n",
      " Five of Diamonds\n",
      " Six of Diamonds\n",
      " Seven of Diamonds\n",
      " Eight of Diamonds\n",
      " Nine of Diamonds\n",
      " Ten of Diamonds\n",
      " Jack of Diamonds\n",
      " Queen of Diamonds\n",
      " King of Diamonds\n",
      " Ace of Diamonds\n"
     ]
    }
   ],
   "source": [
    "td = Deck()\n",
    "print(td)"
   ]
  },
  {
   "cell_type": "code",
   "execution_count": 47,
   "metadata": {},
   "outputs": [],
   "source": [
    "class Hand():\n",
    "    def __init__(self):\n",
    "        self.cards = []\n",
    "        self.value = 0 #sum of cards in the hand = value of the hand\n",
    "        self.aces = 0 #number of aces in the hand\n",
    "    \n",
    "    def add_card(self,card):\n",
    "        self.cards.append(card)\n",
    "        self.value += values[card.rank]\n",
    "        \n",
    "        if card.rank == 'Ace':\n",
    "            self.aces += 1\n",
    "        \n",
    "    def adjust4ace(self):\n",
    "        while self.value > 21 and self.aces: #while value > 21 and aces value is anything but zero\n",
    "            self.value -= 10\n",
    "            self.aces -= 1\n",
    "        \n",
    "        "
   ]
  },
  {
   "cell_type": "code",
   "execution_count": 48,
   "metadata": {},
   "outputs": [],
   "source": [
    "#just testing lol\n",
    "td = Deck()\n",
    "td.shuffle()"
   ]
  },
  {
   "cell_type": "code",
   "execution_count": 49,
   "metadata": {},
   "outputs": [],
   "source": [
    "tp = Hand()"
   ]
  },
  {
   "cell_type": "code",
   "execution_count": 50,
   "metadata": {},
   "outputs": [
    {
     "name": "stdout",
     "output_type": "stream",
     "text": [
      "Nine of Spades\n"
     ]
    }
   ],
   "source": [
    "ca = td.deal()\n",
    "print(ca)\n",
    "tp.add_card(ca)"
   ]
  },
  {
   "cell_type": "code",
   "execution_count": 51,
   "metadata": {},
   "outputs": [
    {
     "data": {
      "text/plain": [
       "9"
      ]
     },
     "execution_count": 51,
     "metadata": {},
     "output_type": "execute_result"
    }
   ],
   "source": [
    "tp.value"
   ]
  },
  {
   "cell_type": "code",
   "execution_count": 52,
   "metadata": {},
   "outputs": [],
   "source": [
    "class Chips():\n",
    "    def __init__(self,total=100):\n",
    "        self.total = total\n",
    "        self.bet = 0\n",
    "    \n",
    "    def win_bet(self):\n",
    "        self.total += self.bet\n",
    "        \n",
    "    def lose_bet(self):\n",
    "        self.total -= self.bet"
   ]
  },
  {
   "cell_type": "code",
   "execution_count": 53,
   "metadata": {},
   "outputs": [],
   "source": [
    "def take_bet(chips):\n",
    "    \n",
    "    while True:\n",
    "        try:\n",
    "            chips.bet = int(input('How many chips would you like to bet?:'))\n",
    "        except:\n",
    "            print('Sorry, integer values only!')\n",
    "        else:\n",
    "            if chips.bet > chips.total:\n",
    "                print(f'Sorry you do not have enough chips. You have only {chips.total}')\n",
    "            else:\n",
    "                break"
   ]
  },
  {
   "cell_type": "code",
   "execution_count": 54,
   "metadata": {},
   "outputs": [],
   "source": [
    "def hit(deck,hand):\n",
    "    \n",
    "    hand.add_card(deck.deal())\n",
    "    hand.adjust4ace()"
   ]
  },
  {
   "cell_type": "code",
   "execution_count": 55,
   "metadata": {},
   "outputs": [],
   "source": [
    "def hit_or_stand(deck, hand):\n",
    "    global playing\n",
    "    \n",
    "    x = input('Hit or Stand? H or S:')\n",
    "    if x[0].lower() == 'h':\n",
    "        hit(deck, hand)\n",
    "    elif x[0].lower() == 's':\n",
    "        print('Player Stands, Dealers Turn')\n",
    "        playing = False\n",
    "    else:\n",
    "        print('Sorry did not understand')\n",
    "        \n",
    "        "
   ]
  },
  {
   "cell_type": "code",
   "execution_count": 56,
   "metadata": {},
   "outputs": [],
   "source": [
    "def player_busts(player, dealer, chips):\n",
    "    print('Player Busts!')\n",
    "    chips.lose_bet()\n",
    "    \n",
    "def player_wins(player, dealer, chips):\n",
    "    print('Player Wins!')\n",
    "    chips.win_bet()\n",
    "\n",
    "def dealer_busts(player, dealer, chips):\n",
    "    print('Dealer Busts!')\n",
    "    chips.lose_bet()\n",
    "    \n",
    "def dealer_wins(player, dealer, chips):\n",
    "    print('Dealer Wins!')\n",
    "    chips.win_bet()\n",
    "    \n",
    "def push(player, dealer):\n",
    "    print('Dealer and Player TIE!')"
   ]
  },
  {
   "cell_type": "code",
   "execution_count": 57,
   "metadata": {},
   "outputs": [],
   "source": [
    "def show_some(player,dealer):\n",
    "    print(\"\\nDealer's Hand:\")\n",
    "    print(\" <card hidden>\")\n",
    "    print('',dealer.cards[1])  \n",
    "    print(\"\\nPlayer's Hand:\", *player.cards, sep='\\n ')\n",
    "    \n",
    "def show_all(player,dealer):\n",
    "    print(\"\\nDealer's Hand:\", *dealer.cards, sep='\\n ')\n",
    "    print(\"Dealer's Hand =\",dealer.value)\n",
    "    print(\"\\nPlayer's Hand:\", *player.cards, sep='\\n ')\n",
    "    print(\"Player's Hand =\",player.value)"
   ]
  },
  {
   "cell_type": "code",
   "execution_count": 58,
   "metadata": {},
   "outputs": [
    {
     "name": "stdout",
     "output_type": "stream",
     "text": [
      "Welcome to BlackJack!\n",
      "How many chips would you like to bet?:20\n",
      "\n",
      "Dealer's Hand:\n",
      " <card hidden>\n",
      " Ace of Spades\n",
      "\n",
      "Player's Hand:\n",
      " Nine of Clubs\n",
      " Seven of Clubs\n",
      "Hit or Stand? H or S:h\n",
      "\n",
      "Dealer's Hand:\n",
      " <card hidden>\n",
      " Ace of Spades\n",
      "\n",
      "Player's Hand:\n",
      " Nine of Clubs\n",
      " Seven of Clubs\n",
      " Jack of Clubs\n",
      "Player Busts!\n",
      "\n",
      " Players chips are 80\n",
      "Want to play a new hand? Y or Ny\n",
      "Welcome to BlackJack!\n",
      "How many chips would you like to bet?:81\n",
      "\n",
      "Dealer's Hand:\n",
      " <card hidden>\n",
      " Five of Clubs\n",
      "\n",
      "Player's Hand:\n",
      " Eight of Clubs\n",
      " Ten of Diamonds\n",
      "Hit or Stand? H or S:s\n",
      "Player Stands, Dealers Turn\n",
      "\n",
      "Dealer's Hand:\n",
      " <card hidden>\n",
      " Five of Clubs\n",
      "\n",
      "Player's Hand:\n",
      " Eight of Clubs\n",
      " Ten of Diamonds\n",
      "\n",
      "Dealer's Hand:\n",
      " Four of Diamonds\n",
      " Five of Clubs\n",
      " Four of Hearts\n",
      " Ten of Hearts\n",
      "Dealer's Hand = 23\n",
      "\n",
      "Player's Hand:\n",
      " Eight of Clubs\n",
      " Ten of Diamonds\n",
      "Player's Hand = 18\n",
      "Dealer Busts!\n",
      "\n",
      " Players chips are 19\n",
      "Want to play a new hand? Y or Nn\n",
      "Thanks for playing!\n"
     ]
    }
   ],
   "source": [
    "#GAME LOGIC\n",
    "\n",
    "while True:\n",
    "    print('Welcome to BlackJack!')\n",
    "    deck = Deck()\n",
    "    deck.shuffle()\n",
    "    player = Hand() #Player's Hand\n",
    "    player.add_card(deck.deal())\n",
    "    player.add_card(deck.deal())\n",
    "    dealer = Hand() #Dealer's hand\n",
    "    dealer.add_card(deck.deal())\n",
    "    dealer.add_card(deck.deal())\n",
    "     \n",
    "    pchips = Chips() #player chips\n",
    "    \n",
    "    take_bet(pchips) \n",
    "    \n",
    "    show_some(player,dealer) #show cards - 1 dealer card hidden\n",
    "    \n",
    "    while playing:\n",
    "        hit_or_stand(deck, player)\n",
    "        show_some(player, dealer)\n",
    "        if player.value > 21:\n",
    "            player_busts(player, dealer, pchips)\n",
    "            break\n",
    "    if player.value <= 21:\n",
    "        while dealer.value < player.value:\n",
    "            hit(deck, dealer)\n",
    "        \n",
    "        show_all(player, dealer)\n",
    "        \n",
    "        if dealer.value > 21:\n",
    "            dealer_busts(player, dealer, pchips)\n",
    "        elif dealer.value > player.value:\n",
    "            dealer_wins(player, dealer, pchips)\n",
    "        elif dealer.value < player.value:\n",
    "            player_wins(player, dealer, pchips)\n",
    "        else:\n",
    "            push(player, dealer)\n",
    "            \n",
    "    print('\\n Players chips are {}'.format(pchips.total))\n",
    "    \n",
    "    new_game = input('Want to play a new hand? Y or N')\n",
    "    if new_game[0].lower() == 'y':\n",
    "        playing = True\n",
    "        continue\n",
    "    else:\n",
    "        print('Thanks for playing!')\n",
    "        break\n",
    "        \n",
    "            \n",
    "        \n",
    "    "
   ]
  },
  {
   "cell_type": "code",
   "execution_count": null,
   "metadata": {},
   "outputs": [],
   "source": []
  }
 ],
 "metadata": {
  "kernelspec": {
   "display_name": "Python 3",
   "language": "python",
   "name": "python3"
  },
  "language_info": {
   "codemirror_mode": {
    "name": "ipython",
    "version": 3
   },
   "file_extension": ".py",
   "mimetype": "text/x-python",
   "name": "python",
   "nbconvert_exporter": "python",
   "pygments_lexer": "ipython3",
   "version": "3.8.3"
  }
 },
 "nbformat": 4,
 "nbformat_minor": 4
}
